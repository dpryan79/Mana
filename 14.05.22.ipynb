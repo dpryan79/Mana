{
 "cells": [
  {
   "cell_type": "code",
   "execution_count": 10,
   "id": "f297c7ac",
   "metadata": {
    "ExecuteTime": {
     "end_time": "2022-05-14T12:48:36.540107Z",
     "start_time": "2022-05-14T12:48:36.538222Z"
    }
   },
   "outputs": [],
   "source": [
    "import os\n",
    "import analysis"
   ]
  },
  {
   "cell_type": "code",
   "execution_count": 11,
   "id": "b1a4c688",
   "metadata": {
    "ExecuteTime": {
     "end_time": "2022-05-14T12:47:25.018244Z",
     "start_time": "2022-05-14T12:47:25.015578Z"
    }
   },
   "outputs": [],
   "source": [
    "path = \"TMP\"\n",
    "bam = \"cDNA_Mod_37C_PefT7_BaseGfpmRNA_allpassedreads_sorted.bam\"\n",
    "log = path + \"/log.txt\"\n",
    "report = path + \"/mRNA.txt\"\n",
    "bed = \"mrna_target_bed.bed\"\n",
    "fasta = \"plasmid_gfp.fasta\""
   ]
  },
  {
   "cell_type": "code",
   "execution_count": 12,
   "id": "7bbdadf2",
   "metadata": {
    "ExecuteTime": {
     "end_time": "2022-05-14T12:49:04.552055Z",
     "start_time": "2022-05-14T12:49:04.549425Z"
    }
   },
   "outputs": [],
   "source": [
    "x = {\"path\":path, \"analysis\":\"mRNA\", \"bed\":bed, \"bam\":bam, \"report\":report, \"fasta\":fasta, \"log\":log}"
   ]
  },
  {
   "cell_type": "code",
   "execution_count": 13,
   "id": "32977ec5",
   "metadata": {
    "ExecuteTime": {
     "end_time": "2022-05-14T12:49:23.949635Z",
     "start_time": "2022-05-14T12:49:23.936822Z"
    }
   },
   "outputs": [
    {
     "name": "stdout",
     "output_type": "stream",
     "text": [
      "[INFO]: mkdir -p TMP\n",
      "[INFO]: samtools index cDNA_Mod_37C_PefT7_BaseGfpmRNA_allpassedreads_sorted.bam\n",
      "[INFO]: samtools stats cDNA_Mod_37C_PefT7_BaseGfpmRNA_allpassedreads_sorted.bam > TMP/cDNA_Mod_37C_PefT7_BaseGfpmRNA_allpassedreads_sorted.bam_stats.txt\n",
      "[INFO]: samtools coverage cDNA_Mod_37C_PefT7_BaseGfpmRNA_allpassedreads_sorted.bam > TMP/cDNA_Mod_37C_PefT7_BaseGfpmRNA_allpassedreads_sorted.bam_coverage.txt\n",
      "[INFO]: samtools flagstat cDNA_Mod_37C_PefT7_BaseGfpmRNA_allpassedreads_sorted.bam > TMP/cDNA_Mod_37C_PefT7_BaseGfpmRNA_allpassedreads_sorted.bam_flagstat.txt\n",
      "[INFO]: samtools depth cDNA_Mod_37C_PefT7_BaseGfpmRNA_allpassedreads_sorted.bam > TMP/cDNA_Mod_37C_PefT7_BaseGfpmRNA_allpassedreads_sorted.bam_depth.txt\n",
      "[INFO]: pysamstats --max-depth=3000000 --fasta plasmid_gfp.fasta --type variation cDNA_Mod_37C_PefT7_BaseGfpmRNA_allpassedreads_sorted.bam > TMP/cDNA_Mod_37C_PefT7_BaseGfpmRNA_allpassedreads_sorted.bam_pysam.txt\n",
      "[INFO]: bedtools intersect -a cDNA_Mod_37C_PefT7_BaseGfpmRNA_allpassedreads_sorted.bam -b mrna_target_bed.bed > TMP/cDNA_Mod_37C_PefT7_BaseGfpmRNA_allpassedreads_sorted.bam_on_target.bam\n",
      "[INFO]: bedtools intersect -a cDNA_Mod_37C_PefT7_BaseGfpmRNA_allpassedreads_sorted.bam -v -b mrna_target_bed.bed > TMP/cDNA_Mod_37C_PefT7_BaseGfpmRNA_allpassedreads_sorted.bam_off_target.bam\n",
      "[INFO]: samtools index TMP/cDNA_Mod_37C_PefT7_BaseGfpmRNA_allpassedreads_sorted.bam_on_target.bam\n",
      "[INFO]: samtools index TMP/cDNA_Mod_37C_PefT7_BaseGfpmRNA_allpassedreads_sorted.bam_off_target.bam\n",
      "[INFO]: samtools flagstat TMP/cDNA_Mod_37C_PefT7_BaseGfpmRNA_allpassedreads_sorted.bam_on_target.bam > TMP/cDNA_Mod_37C_PefT7_BaseGfpmRNA_allpassedreads_sorted.bam_on_target_flagstat.txt\n",
      "[INFO]: samtools flagstat TMP/cDNA_Mod_37C_PefT7_BaseGfpmRNA_allpassedreads_sorted.bam_off_target.bam > TMP/cDNA_Mod_37C_PefT7_BaseGfpmRNA_allpassedreads_sorted.bam_off_target_flagstat.txt\n"
     ]
    },
    {
     "data": {
      "text/plain": [
       "'mRNA Sequencing Results – cDNA unmodified\\n\\nFile Locations\\nAlignments                  cDNA_Mod_37C_PefT7_BaseGfpmRNA_allpassedreads_sorted.bam\\nReference                   plasmid_gfp.fasta\\nAnalysis Log                log.txt\\nResults                     TMP/mRNA.txt\\n\\nRun Performance\\nTotal Reads                 838356\\nMapped Reads                165561\\nUnmapped Reads              55558\\nRead Length Average         312\\nAverage Coverage            21487.10290237467\\nMin Coverage                2\\nMax Coverage                86669\\n\\nError Performance per Nucleotide\\t\\t\\t\\nFrequency\\t\\t\\t\\t\\t%avg\\tmax\\t\\tmin\\nMatch                       20327.39    77142    1\\nMismatch                    381.45    11336    0\\nDeletion                    778.27    40174    0\\nInsertion                   162.95    7970    0\\nTotal Error                 440.89    7970    0\\nNotes\\t \\t \\t \\nError = mismatch + insertion + deletion\\t\\t\\t\\nMismatch does not include deletion\\t\\t\\t\\n\\nReads  \\t\\t\\t\\t\\t\\t%\\t\\tcount\\t\\nTotal                       100%    838356\\nOn-target                   19.73%    165387\\nOff-target                  80.27%    672969\\n'"
      ]
     },
     "execution_count": 13,
     "metadata": {},
     "output_type": "execute_result"
    }
   ],
   "source": [
    "import importlib\n",
    "import report\n",
    "importlib.reload(analysis)\n",
    "importlib.reload(report)\n",
    "\n",
    "analysis.run(x)"
   ]
  },
  {
   "cell_type": "code",
   "execution_count": null,
   "id": "a61333fd",
   "metadata": {},
   "outputs": [],
   "source": []
  }
 ],
 "metadata": {
  "kernelspec": {
   "display_name": "Python 3 (ipykernel)",
   "language": "python",
   "name": "python3"
  },
  "language_info": {
   "codemirror_mode": {
    "name": "ipython",
    "version": 3
   },
   "file_extension": ".py",
   "mimetype": "text/x-python",
   "name": "python",
   "nbconvert_exporter": "python",
   "pygments_lexer": "ipython3",
   "version": "3.7.12"
  },
  "toc": {
   "base_numbering": 1,
   "nav_menu": {},
   "number_sections": false,
   "sideBar": true,
   "skip_h1_title": false,
   "title_cell": "Table of Contents",
   "title_sidebar": "Contents",
   "toc_cell": false,
   "toc_position": {},
   "toc_section_display": true,
   "toc_window_display": false
  }
 },
 "nbformat": 4,
 "nbformat_minor": 5
}
